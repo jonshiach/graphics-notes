{
 "cells": [
  {
   "cell_type": "code",
   "execution_count": 1,
   "metadata": {},
   "outputs": [
    {
     "name": "stdout",
     "output_type": "stream",
     "text": [
      "cp⋅cr⋅cy - sp⋅sr⋅sy\n",
      "cp⋅sr⋅sy + cr⋅cy⋅sp\n",
      "cp⋅cr⋅sy - cy⋅sp⋅sr\n",
      "cp⋅cy⋅sr + cr⋅sp⋅sy\n"
     ]
    }
   ],
   "source": [
    "import sympy\n",
    "import numpy as np\n",
    "\n",
    "sp, cp, sy, cy, sr, cr = sympy.symbols('sp, cp, sy, cy, sr, cr')\n",
    "\n",
    "qp = np.array([cp, sp, 0, 0])\n",
    "qy = np.array([cy, 0, sy, 0])\n",
    "qr = np.array([cr, 0, 0, sr])\n",
    "\n",
    "\n",
    "def quatMult(q1, q2):\n",
    "    return np.append(np.array(q1[0] * q2[0] - np.dot(q1[1:], q2[1:])), q1[0] * q2[1:] + q2[0] * q1[1:] + np.cross(q1[1:], q2[1:]))\n",
    "\n",
    "def printQuat(q):\n",
    "    for i in range(4):\n",
    "        sympy.pprint(q[i])\n",
    "\n",
    "qpqyqr = quatMult(quatMult(qp, qy),qr)\n",
    "printQuat(qpqyqr)"
   ]
  },
  {
   "cell_type": "code",
   "execution_count": 2,
   "metadata": {},
   "outputs": [
    {
     "ename": "UFuncTypeError",
     "evalue": "Cannot cast ufunc 'multiply' output from dtype('O') to dtype('int64') with casting rule 'same_kind'",
     "output_type": "error",
     "traceback": [
      "\u001b[0;31m---------------------------------------------------------------------------\u001b[0m",
      "\u001b[0;31mUFuncTypeError\u001b[0m                            Traceback (most recent call last)",
      "Cell \u001b[0;32mIn[2], line 1\u001b[0m\n\u001b[0;32m----> 1\u001b[0m qyqpqr \u001b[38;5;241m=\u001b[39m quatMult(qy, qp)\n",
      "Cell \u001b[0;32mIn[1], line 12\u001b[0m, in \u001b[0;36mquatMult\u001b[0;34m(q1, q2)\u001b[0m\n\u001b[1;32m     11\u001b[0m \u001b[38;5;28;01mdef\u001b[39;00m \u001b[38;5;21mquatMult\u001b[39m(q1, q2):\n\u001b[0;32m---> 12\u001b[0m     \u001b[38;5;28;01mreturn\u001b[39;00m np\u001b[38;5;241m.\u001b[39mappend(np\u001b[38;5;241m.\u001b[39marray(q1[\u001b[38;5;241m0\u001b[39m] \u001b[38;5;241m*\u001b[39m q2[\u001b[38;5;241m0\u001b[39m] \u001b[38;5;241m-\u001b[39m np\u001b[38;5;241m.\u001b[39mdot(q1[\u001b[38;5;241m1\u001b[39m:], q2[\u001b[38;5;241m1\u001b[39m:])), q1[\u001b[38;5;241m0\u001b[39m] \u001b[38;5;241m*\u001b[39m q2[\u001b[38;5;241m1\u001b[39m:] \u001b[38;5;241m+\u001b[39m q2[\u001b[38;5;241m0\u001b[39m] \u001b[38;5;241m*\u001b[39m q1[\u001b[38;5;241m1\u001b[39m:] \u001b[38;5;241m+\u001b[39m np\u001b[38;5;241m.\u001b[39mcross(q1[\u001b[38;5;241m1\u001b[39m:], q2[\u001b[38;5;241m1\u001b[39m:]))\n",
      "File \u001b[0;32m<__array_function__ internals>:200\u001b[0m, in \u001b[0;36mcross\u001b[0;34m(*args, **kwargs)\u001b[0m\n",
      "File \u001b[0;32m~/anaconda3/lib/python3.11/site-packages/numpy/core/numeric.py:1669\u001b[0m, in \u001b[0;36mcross\u001b[0;34m(a, b, axisa, axisb, axisc, axis)\u001b[0m\n\u001b[1;32m   1667\u001b[0m cp0 \u001b[38;5;241m-\u001b[39m\u001b[38;5;241m=\u001b[39m tmp\n\u001b[1;32m   1668\u001b[0m multiply(a2, b0, out\u001b[38;5;241m=\u001b[39mcp1)\n\u001b[0;32m-> 1669\u001b[0m multiply(a0, b2, out\u001b[38;5;241m=\u001b[39mtmp)\n\u001b[1;32m   1670\u001b[0m cp1 \u001b[38;5;241m-\u001b[39m\u001b[38;5;241m=\u001b[39m tmp\n\u001b[1;32m   1671\u001b[0m multiply(a0, b1, out\u001b[38;5;241m=\u001b[39mcp2)\n",
      "\u001b[0;31mUFuncTypeError\u001b[0m: Cannot cast ufunc 'multiply' output from dtype('O') to dtype('int64') with casting rule 'same_kind'"
     ]
    }
   ],
   "source": [
    "qyqpqr = quatMult(qy, qp)"
   ]
  }
 ],
 "metadata": {
  "kernelspec": {
   "display_name": "base",
   "language": "python",
   "name": "python3"
  },
  "language_info": {
   "codemirror_mode": {
    "name": "ipython",
    "version": 3
   },
   "file_extension": ".py",
   "mimetype": "text/x-python",
   "name": "python",
   "nbconvert_exporter": "python",
   "pygments_lexer": "ipython3",
   "version": "3.11.5"
  }
 },
 "nbformat": 4,
 "nbformat_minor": 2
}